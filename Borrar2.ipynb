{
 "cells": [
  {
   "cell_type": "code",
   "execution_count": 1,
   "id": "580917dd-dcb0-4819-b2ad-39c2bf75d609",
   "metadata": {},
   "outputs": [
    {
     "name": "stdout",
     "output_type": "stream",
     "text": [
      "prueba 1\n"
     ]
    }
   ],
   "source": [
    "print(\"prueba 1\")"
   ]
  },
  {
   "cell_type": "code",
   "execution_count": null,
   "id": "2d9ebf82-03cf-4e36-99f4-582ffd561c9f",
   "metadata": {},
   "outputs": [],
   "source": []
  }
 ],
 "metadata": {
  "kernelspec": {
   "display_name": "Python 3 (ipykernel)",
   "language": "python",
   "name": "python3"
  },
  "language_info": {
   "codemirror_mode": {
    "name": "ipython",
    "version": 3
   },
   "file_extension": ".py",
   "mimetype": "text/x-python",
   "name": "python",
   "nbconvert_exporter": "python",
   "pygments_lexer": "ipython3",
   "version": "3.10.6"
  }
 },
 "nbformat": 4,
 "nbformat_minor": 5
}
