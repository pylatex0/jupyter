{
 "cells": [
  {
   "cell_type": "code",
   "execution_count": 1,
   "id": "0e4901b7-b65f-44c6-95cd-adec486f81f4",
   "metadata": {},
   "outputs": [
    {
     "name": "stdout",
     "output_type": "stream",
     "text": [
      "Hola mis amigos de pylatex\n"
     ]
    }
   ],
   "source": [
    "print(\"Hola mis amigos de pylatex\")"
   ]
  },
  {
   "cell_type": "code",
   "execution_count": null,
   "id": "955fd416-2f1a-4c7a-b6c4-8679b7953f27",
   "metadata": {},
   "outputs": [],
   "source": []
  }
 ],
 "metadata": {
  "kernelspec": {
   "display_name": "Python 3 (ipykernel)",
   "language": "python",
   "name": "python3"
  },
  "language_info": {
   "codemirror_mode": {
    "name": "ipython",
    "version": 3
   },
   "file_extension": ".py",
   "mimetype": "text/x-python",
   "name": "python",
   "nbconvert_exporter": "python",
   "pygments_lexer": "ipython3",
   "version": "3.10.6"
  }
 },
 "nbformat": 4,
 "nbformat_minor": 5
}
